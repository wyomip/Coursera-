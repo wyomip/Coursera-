{
 "cells": [
  {
   "cell_type": "markdown",
   "id": "9ed6e4ef",
   "metadata": {},
   "source": [
    "# Data Science Tools and Ecosystem\n"
   ]
  },
  {
   "cell_type": "markdown",
   "id": "ecc2a46a",
   "metadata": {},
   "source": [
    "In this notebook, Data Science Tools and Ecosystem are summarized."
   ]
  },
  {
   "cell_type": "markdown",
   "id": "c31181a1",
   "metadata": {},
   "source": [
    "Some of the popular languages that Data Scientists use are:\n",
    "1. Python\n",
    "2. R\n",
    "3. Julia\n",
    "4. Scala\n",
    "5. Sql\n"
   ]
  },
  {
   "cell_type": "markdown",
   "id": "b27f7f3a",
   "metadata": {},
   "source": [
    "Some of the commonly used libraries used by Data Scientists include:\n",
    "\n",
    "- pandas\n",
    "- ScikitLearn\n",
    "- Pytorch\n",
    "- Numpy\n",
    "- Matplotlib\n"
   ]
  },
  {
   "cell_type": "markdown",
   "id": "fcfec88e",
   "metadata": {},
   "source": [
    "|Data Science tools|\n",
    "----------------------------\n",
    "| Jupyter Notebooks       |\n",
    "| R  Studio               |\n",
    "|Apche Spark              |"
   ]
  },
  {
   "cell_type": "markdown",
   "id": "f410725a",
   "metadata": {},
   "source": [
    "### Below are a few examples of evaluating arithmetic expressions in Python\n",
    "1. + \n",
    "2. \"*\"\n",
    "3. ()\n",
    "4. \"-\" "
   ]
  },
  {
   "cell_type": "code",
   "execution_count": 3,
   "id": "25103335",
   "metadata": {},
   "outputs": [
    {
     "data": {
      "text/plain": [
       "17"
      ]
     },
     "execution_count": 3,
     "metadata": {},
     "output_type": "execute_result"
    }
   ],
   "source": [
    "# This a simple arithmetic expression to mutiply then add integers\n",
    "(3*4)+5"
   ]
  },
  {
   "cell_type": "code",
   "execution_count": 5,
   "id": "1eaacc5a",
   "metadata": {},
   "outputs": [
    {
     "name": "stdout",
     "output_type": "stream",
     "text": [
      "3.3333333333333335\n"
     ]
    }
   ],
   "source": [
    "#This will convert 200 minutes to hours by diving by 60\n",
    "\n",
    "min = 200\n",
    "\n",
    "hrs = (min/60)\n",
    "\n",
    "print(hrs)"
   ]
  },
  {
   "cell_type": "markdown",
   "id": "abcd65b5",
   "metadata": {},
   "source": [
    "**OBJECTIVES**\n",
    "\n",
    "- Popular languages used by data scientist\n",
    "- Conversion of Minutes to hours\n",
    "- Arithemetic Calculation\n",
    "- List Libraries used by data scientists\n"
   ]
  },
  {
   "cell_type": "markdown",
   "id": "fc48eb1b",
   "metadata": {},
   "source": [
    "## Author\n",
    "\n",
    "Vyome Pathak\n"
   ]
  },
  {
   "cell_type": "code",
   "execution_count": null,
   "id": "047ea001",
   "metadata": {},
   "outputs": [],
   "source": []
  }
 ],
 "metadata": {
  "kernelspec": {
   "display_name": "Python 3 (ipykernel)",
   "language": "python",
   "name": "python3"
  },
  "language_info": {
   "codemirror_mode": {
    "name": "ipython",
    "version": 3
   },
   "file_extension": ".py",
   "mimetype": "text/x-python",
   "name": "python",
   "nbconvert_exporter": "python",
   "pygments_lexer": "ipython3",
   "version": "3.10.9"
  }
 },
 "nbformat": 4,
 "nbformat_minor": 5
}
